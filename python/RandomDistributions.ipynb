{
 "cells": [
  {
   "cell_type": "markdown",
   "metadata": {},
   "source": [
    "Non-uniform random distributions\n",
    "--------------------------------\n",
    "\n",
    "In the previous section we learned how to generate random deviates with\n",
    "a uniform probability distribution in an interval $[a,b]$. This\n",
    "distributioon is normalized, so that $$\\int _a^b {P(x)dx}=1.$$ Hence,\n",
    "$P(x)=1/(b-a)$.\n",
    "\n",
    "Now, suppose that we generate a sequence $\\{x_i\\}$ and we take some\n",
    "function of it to generate $\\{y(x_i)\\}=\\{y_i\\}$. This new sequence is\n",
    "going to be distributed according to some probability density $P(y)$,\n",
    "such that $$P(y)dy=P(x)dx$$ or $$P(y)=P(x)\\frac{dx}{dy}.$$\n",
    "\n",
    "If we want to generate a desired normalized distribution $P(y)$, we need\n",
    "to solve the differential equation: $$\\frac{dx}{dy}=P(y).$$ But the\n",
    "solution of this is $$x=\\int _0^y {P(y')dy'}=F(y).$$ Therefore,\n",
    "$$y(x)=F^{-1}(x),\n",
    "$$ where $F^{-1}$ is the inverse of $F$.\n",
    "\n",
    "### Exponential distribution\n",
    "\n",
    "As an example, let us take $y(x)=-\\ln{(x)}$ with $P(x)$ representing a\n",
    "uniform distribution in the interval $[0,1]$. Then\n",
    "$$P(y)=\\frac{dx}{dy}=e^{-y},$$ which is distributed exponentially. This\n",
    "distribution occurs frequently in real problems such as the radioactive\n",
    "decay of nuclei. You can also see that the quantity $y/\\lambda$ has the\n",
    "distribution $\\lambda\n",
    "e^{-\\lambda y}$.\n",
    "\n",
    "\n"
   ]
  },
  {
   "cell_type": "code",
   "execution_count": 2,
   "metadata": {},
   "outputs": [
    {
     "data": {
      "image/png": "[encoded data removed]",
      "text/plain": [
       "<Figure size 432x288 with 1 Axes>"
      ]
     },
     "metadata": {
      "needs_background": "light"
     },
     "output_type": "display_data"
    }
   ],
   "source": [
    "%matplotlib inline\n",
    "import numpy as np\n",
    "from matplotlib import pyplot\n",
    "\n",
    "N = 10000\n",
    "r = np.random.random(N)\n",
    "\n",
    "xlambda = 0.1\n",
    "x = -np.log(r)/xlambda\n",
    "\n",
    "binwidth=xlambda*5\n",
    "pyplot.hist(x,bins=np.arange(0.,100., binwidth),density=True);\n",
    "pyplot.plot(np.arange(0.,100.,binwidth),xlambda*np.exp(-xlambda*np.arange(0.,100.,binwidth)),ls='-',c='red',lw=3);"
   ]
  },
  {
   "cell_type": "markdown",
   "metadata": {},
   "source": [
    "von Neumann rejection\n",
    "---------------------\n",
    "A simple and ingenious method for generating random points with a\n",
    "probability distribution $P(x)$ was deduced by von Neumann. Draw a plot\n",
    "with you probability distribution, and on the same graph, plot another\n",
    "curve $f(x)$ which has finite area and lies everywhere above your\n",
    "original distribution. We will call $f(x)$ the “comparison function”.\n",
    "Generate random pairs $(x_i,y_i)$ with uniform distribution inside\n",
    "$f(x)$. Whenever the point lies inside the area of the original\n",
    "probability, we accept it, otherwise, we reject it. All the accepted\n",
    "points will be uniformly distributed within the original area, and\n",
    "therefore will have the desired distribution. The fraction of points\n",
    "accepted/rejected will deppend on the ratio between the two areas. The\n",
    "closer the comparison function $f(x)$ resembles $P(x)$, the more points\n",
    "will be accepted. Ideally, for $P(x)=f(x)$, all the points will be\n",
    "accepted, and none rejected. However, in practice, this is not always\n",
    "possible, but we can try to pick $f(x)$ such that we minimize the\n",
    "fraction of rejected points.\n",
    "\n",
    "It only remains how to pick a number with probability $f(x)$. For this\n",
    "purpose, we utilize the method shown in the previous section, using a\n",
    "function whose indefinite intergral is know analytically, and is also\n",
    "analytically invertible. We then pick a random number $x$ and retrieve\n",
    "the corresponding $y(x)$ according to (\\[random\\_invert\\]). Then, we\n",
    "generate a second random number and we use the rejection criterion.\n",
    "\n",
    "An equivalent procedure consists of picking the second number between 0\n",
    "and 1 and accept or reject according to whether is it respectively less\n",
    "than or greater than the ratio $P(x)/f(x)$. Clearly, if $f(x)=P(x)$ all the points will be accepted.\n",
    "\n"
   ]
  },
  {
   "cell_type": "code",
   "execution_count": 3,
   "metadata": {},
   "outputs": [
    {
     "name": "stdout",
     "output_type": "stream",
     "text": [
      "Acceptance Ratio:  0.1681\n"
     ]
    },
    {
     "data": {
      "image/png": "[encoded data removed]",
      "text/plain": [
       "<Figure size 432x288 with 1 Axes>"
      ]
     },
     "metadata": {
      "needs_background": "light"
     },
     "output_type": "display_data"
    }
   ],
   "source": [
    "N = 10000\n",
    "\n",
    "xmax = 60\n",
    "ymax = xlambda\n",
    "\n",
    "rx = np.random.random(N)*xmax\n",
    "ry = np.random.random(N)*ymax\n",
    "\n",
    "values = []\n",
    "\n",
    "Nin = 0\n",
    "for i in range(N):\n",
    "    if(ry[i] <= xlambda*np.exp(-xlambda*rx[i])):\n",
    "        # Accept\n",
    "        values.append(rx[i])\n",
    "        Nin += 1\n",
    "        \n",
    "x = np.asarray(values)\n",
    "\n",
    "print(\"Acceptance Ratio: \",Nin/float(N))\n",
    "\n",
    "binwidth=xlambda*5\n",
    "#pyplot.hist(rx,bins=np.arange(0.,100., binwidth),density=True);\n",
    "pyplot.hist(x,bins=np.arange(0.,100., binwidth),density=True);\n",
    "pyplot.plot(np.arange(0.,100.,binwidth),xlambda*np.exp(-xlambda*np.arange(0.,100.,binwidth)),ls='-',c='red',lw=3);"
   ]
  },
  {
   "cell_type": "markdown",
   "metadata": {},
   "source": [
    "#### Question 1:\n",
    "\n",
    "How do you improve the acceptance ratio by using a linear function $f(x)=1-\\alpha x$, with appropriate choice of $\\alpha$"
   ]
  },
  {
   "cell_type": "markdown",
   "metadata": {},
   "source": [
    "Random walk methods: the Metropolis algorithm\n",
    "---------------------------------------------\n",
    "\n",
    "Suppose that we want to generate random variables according to an\n",
    "arbitrary probability density $P(x)$. The Metropolis algorithm produces\n",
    "a “random walk” of points $\\{x_i\\}$ whose asymptotic probability\n",
    "approaches $P(x)$ after a large number of steps. The random walk is\n",
    "defined by a “transition probability” $w(x_i \\rightarrow x_j)$ for one\n",
    "value $x_i$ to another $x_j$ in order that the distribution of points\n",
    "$x_0$, $x_1$, $x_2$, ... converges to $P(x)$. In can be shown that it is\n",
    "sufficient (but not necessary) to satisfy the “detailed balance”\n",
    "condition $$p(x_i)w(x_i \\rightarrow x_j) = p(x_j)w(x_j \\rightarrow x_i).\n",
    "$$ This relation dos not specify $w(x_i \\rightarrow x_j)$\n",
    "uniquely. A simple choice is\n",
    "$$w(x_i \\rightarrow x_j)=\\min{\\left[ 1,\\frac{P(x_j)}{P(x_i)} \\right] }.$$\n",
    "This choice can be described by the following steps. Suppose that the\n",
    "“random walker” is a position $x_n$. To generate $x_{n+1}$ we\n",
    "\n",
    "1.  choose a trial position $x_t=x_n+\\delta _n$ , where the $\\delta _n$\n",
    "    is a random number in the interval $[-\\delta ,\\delta]$.\n",
    "\n",
    "2.  Calculate $w=P(x_t)/P(x_n)$.\n",
    "\n",
    "3.  If $w \\geq 1$ we accept the change and let $x_{n+1}=x_t$.\n",
    "\n",
    "4.  If $w \\leq 1$, generate a random number $r$.\n",
    "\n",
    "5.  If $r \\leq w$, accept the change and let $x_{n+1} = x_t$.\n",
    "\n",
    "6.  If the trial change is not accepted, the let $x_{n+1}=x_n$.\n",
    "\n",
    "It is necessary to sample a number of points of the random walk before\n",
    "the asymptotic probability $P(x)$ is attained. How do we choose the\n",
    "“step size” $\\delta$? If $\\delta$ is too large, only a small fraction of\n",
    "changes will be accepted and the sampling will be inefficient. If\n",
    "$\\delta$ is too small, a large number will be accepted, but it would\n",
    "take too long to sample $P(x)$ over the whole interval of interest.\n",
    "Ideally, we want at least 1/3-1/2 of the trial steps to be accepted. We\n",
    "also want to choose $x_0$ such that the distribution $\\{x_i\\}$ converges\n",
    "to $P(x)$ as quickly as possible. An obvious choice is to begin the\n",
    "random walk at the point where $P(x)$ is maximum.\n",
    "\n",
    "### Exercise 1: The Gaussian distribution\n",
    "\n",
    "1.  Use the Metropolis algorithm to generate a Gaussian distribution\n",
    "    $P(x)=A \\exp{(-x^2/2\\sigma ^2)}$. Is the numerical value of the\n",
    "    normalization constant $A$ relevant? Determine the qualitative\n",
    "    dependence of the acceptance ratio and the equilibrium time on the\n",
    "    maximum step size $\\delta$. One possible criterion for equilibrium\n",
    "    is that $\\langle x^2\n",
    "    \\rangle \\approx \\sigma ^2$. For $\\sigma = 1$, what is a reasonable\n",
    "    choice of $\\delta$? (choose $x_0 = 0$.)\n",
    "\n",
    "2.  Plot the asymptotic probability distribution generated by the\n",
    "    Metropolis algorithm.\n",
    "    "
   ]
  },
  {
   "cell_type": "code",
   "execution_count": 4,
   "metadata": {},
   "outputs": [
    {
     "data": {
      "image/png": "[encoded data removed]",
      "text/plain": [
       "<Figure size 432x288 with 1 Axes>"
      ]
     },
     "metadata": {
      "needs_background": "light"
     },
     "output_type": "display_data"
    }
   ],
   "source": [
    "N = 100000\n",
    "\n",
    "x = np.zeros(N)\n",
    "delta = 2.\n",
    "sigma = 10.\n",
    "sigma2 = sigma**2\n",
    "\n",
    "def metropolis(xold):\n",
    "    xtrial = np.random.random()    \n",
    "    xtrial = xold+(2*xtrial-1)*delta\n",
    "    weight = np.exp(-0.5*(xtrial**2-xold**2)/sigma2)\n",
    "    xnew = xold\n",
    "    if(weight >= 1): #Accept\n",
    "        xnew = xtrial\n",
    "    else:\n",
    "        r = np.random.random()\n",
    "        if(r <= weight): #Accept\n",
    "            xnew = xtrial\n",
    "    return xnew\n",
    "# Only here to get a better starting point\n",
    "xwalker = 20.\n",
    "Nwarmup = 500000\n",
    "for i in range(Nwarmup):\n",
    "    xwalker = metropolis(xwalker)\n",
    "###\n",
    "x[0] = xwalker\n",
    "\n",
    "for i in range(1,N):\n",
    "    x0 = x[i-1]\n",
    "    for j in range(10):\n",
    "        x0 = metropolis(x0)\n",
    "    x[i] = metropolis(x0)\n",
    "\n",
    "binwidth=sigma/10\n",
    "pyplot.hist(x,bins=np.arange(-50,50., binwidth),density=True);\n",
    "\n",
    "norm = 1./(sigma*np.sqrt(2*np.pi))\n",
    "pyplot.plot(np.arange(-50.,50.,binwidth),norm*np.exp(-0.5*np.arange(-50.,50.,binwidth)**2/sigma2),ls='-',c='red',lw=3);"
   ]
  },
  {
   "cell_type": "markdown",
   "metadata": {
    "collapsed": true
   },
   "source": [
    "Acceptance ratio"
   ]
  },
  {
   "cell_type": "code",
   "execution_count": 13,
   "metadata": {},
   "outputs": [
    {
     "data": {
      "image/png": "[encoded data removed]",
      "text/plain": [
       "<Figure size 432x288 with 1 Axes>"
      ]
     },
     "metadata": {
      "needs_background": "light"
     },
     "output_type": "display_data"
    }
   ],
   "source": [
    "sigma=1.0\n",
    "sigma2=sigma**2\n",
    "def metropolis(xold,delta,sigma2,accCount):\n",
    "    xtrial = np.random.random()    \n",
    "    xtrial = xold+(2*xtrial-1)*delta\n",
    "    weight = np.exp(-0.5*(xtrial**2-xold**2)/sigma2)\n",
    "    xnew = xold\n",
    "    if(weight >= 1): #Accept\n",
    "        xnew = xtrial\n",
    "        accCount+=1\n",
    "    else:\n",
    "        r = np.random.random()\n",
    "        if(r <= weight): #Accept\n",
    "            xnew = xtrial\n",
    "            accCount+=1\n",
    "    return [xnew,accCount]\n",
    "\n",
    "deltaVals=np.arange(0.2,10,0.2)\n",
    "accRatio=np.zeros(deltaVals.size)\n",
    "deltaCount=0\n",
    "\n",
    "for delta in deltaVals:\n",
    "    N = 100000\n",
    "    x = np.zeros(N)\n",
    "    xwalker=10.0\n",
    "    \n",
    "    accCount=0\n",
    "    trialCount=0\n",
    "    x[0]=xwalker\n",
    "    for i in range(1,N):\n",
    "        [x[i],accCount]=metropolis(x[i-1],delta,sigma2,accCount)\n",
    "        trialCount+=1\n",
    "    accRatio[deltaCount]=accCount/trialCount\n",
    "    deltaCount+=1\n",
    "    pyplot.hist(x,bins=np.arange(-10,10., binwidth),density=True);\n",
    "    \n",
    "#pyplot.plot(deltaVals,accRatio) \n",
    "    "
   ]
  },
  {
   "cell_type": "code",
   "execution_count": 10,
   "metadata": {},
   "outputs": [
    {
     "data": {
      "image/png": "[encoded data removed]",
      "text/plain": [
       "<Figure size 432x288 with 1 Axes>"
      ]
     },
     "metadata": {
      "needs_background": "light"
     },
     "output_type": "display_data"
    }
   ],
   "source": [
    "pyplot.hist(x,bins=np.arange(-10,10., binwidth),density=True);"
   ]
  },
  {
   "cell_type": "code",
   "execution_count": null,
   "metadata": {},
   "outputs": [],
   "source": []
  }
 ],
 "metadata": {
  "kernelspec": {
   "display_name": "Python 3",
   "language": "python",
   "name": "python3"
  },
  "language_info": {
   "codemirror_mode": {
    "name": "ipython",
    "version": 3
   },
   "file_extension": ".py",
   "mimetype": "text/x-python",
   "name": "python",
   "nbconvert_exporter": "python",
   "pygments_lexer": "ipython3",
   "version": "3.7.0"
  }
 },
 "nbformat": 4,
 "nbformat_minor": 1
}
